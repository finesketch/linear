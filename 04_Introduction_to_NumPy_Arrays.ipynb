{
  "nbformat": 4,
  "nbformat_minor": 0,
  "metadata": {
    "colab": {
      "name": "04 - Introduction to NumPy Arrays.ipynb",
      "provenance": [],
      "authorship_tag": "ABX9TyMB0Kr3sxA2UuFdIiPI08cU",
      "include_colab_link": true
    },
    "kernelspec": {
      "name": "python3",
      "display_name": "Python 3"
    },
    "language_info": {
      "name": "python"
    }
  },
  "cells": [
    {
      "cell_type": "markdown",
      "metadata": {
        "id": "view-in-github",
        "colab_type": "text"
      },
      "source": [
        "<a href=\"https://colab.research.google.com/github/finesketch/linear/blob/main/04_Introduction_to_NumPy_Arrays.ipynb\" target=\"_parent\"><img src=\"https://colab.research.google.com/assets/colab-badge.svg\" alt=\"Open In Colab\"/></a>"
      ]
    },
    {
      "cell_type": "markdown",
      "metadata": {
        "id": "iYqscH3w3KJp"
      },
      "source": [
        "## NumPy N-Dimensional Array"
      ]
    },
    {
      "cell_type": "code",
      "metadata": {
        "colab": {
          "base_uri": "https://localhost:8080/"
        },
        "id": "UHnISild3KWS",
        "outputId": "b5825de3-0dbd-4165-d2b9-ebed2c3eb12c"
      },
      "source": [
        "# create array\n",
        "\n",
        "from numpy import array\n",
        "\n",
        "l = [1.0, 2.0, 3.0]\n",
        "a = array(l)\n",
        "\n",
        "print(a)\n",
        "print(a.shape)\n",
        "print(a.dtype)"
      ],
      "execution_count": 2,
      "outputs": [
        {
          "output_type": "stream",
          "text": [
            "[1. 2. 3.]\n",
            "(3,)\n",
            "float64\n"
          ],
          "name": "stdout"
        }
      ]
    },
    {
      "cell_type": "code",
      "metadata": {
        "colab": {
          "base_uri": "https://localhost:8080/"
        },
        "id": "fHNsWuaC3b47",
        "outputId": "87b06093-26be-4d46-8b15-2404137b46c8"
      },
      "source": [
        "# create empty array\n",
        "\n",
        "from numpy import empty\n",
        "\n",
        "a = empty([3,3])\n",
        "print(a)"
      ],
      "execution_count": 3,
      "outputs": [
        {
          "output_type": "stream",
          "text": [
            "[[4.66718139e-310 4.66718143e-310 4.66718143e-310]\n",
            " [4.66718143e-310 4.66718143e-310 4.66718143e-310]\n",
            " [4.66718143e-310 0.00000000e+000 0.00000000e+000]]\n"
          ],
          "name": "stdout"
        }
      ]
    },
    {
      "cell_type": "code",
      "metadata": {
        "colab": {
          "base_uri": "https://localhost:8080/"
        },
        "id": "WeIqGrZu3uZQ",
        "outputId": "ffacf8d1-1a3b-4b4c-d46b-ccefc4ddc989"
      },
      "source": [
        "# create zero array\n",
        "\n",
        "from numpy import zeros\n",
        "\n",
        "a = zeros([3,5])\n",
        "print(a)"
      ],
      "execution_count": 4,
      "outputs": [
        {
          "output_type": "stream",
          "text": [
            "[[0. 0. 0. 0. 0.]\n",
            " [0. 0. 0. 0. 0.]\n",
            " [0. 0. 0. 0. 0.]]\n"
          ],
          "name": "stdout"
        }
      ]
    },
    {
      "cell_type": "code",
      "metadata": {
        "colab": {
          "base_uri": "https://localhost:8080/"
        },
        "id": "75PGPG_038SY",
        "outputId": "196a0c67-903e-49d2-892b-5556f4a4c15a"
      },
      "source": [
        "# create one array\n",
        "\n",
        "from numpy import ones\n",
        "\n",
        "a = ones([5,])\n",
        "print(a)"
      ],
      "execution_count": 6,
      "outputs": [
        {
          "output_type": "stream",
          "text": [
            "[1. 1. 1. 1. 1.]\n"
          ],
          "name": "stdout"
        }
      ]
    },
    {
      "cell_type": "code",
      "metadata": {
        "colab": {
          "base_uri": "https://localhost:8080/"
        },
        "id": "idI-BhFc4FIZ",
        "outputId": "beab1d86-497c-456f-ec97-fd39577ed26d"
      },
      "source": [
        "# create array with vstack\n",
        "\n",
        "from numpy import array\n",
        "from numpy import vstack\n",
        "\n",
        "a1 = array([1,2,3])\n",
        "print(a1)\n",
        "\n",
        "a2 = array([4,5,6])\n",
        "print(a2)\n",
        "\n",
        "a3 = vstack((a1, a2))\n",
        "print(a3)\n",
        "print(a3.shape)"
      ],
      "execution_count": 9,
      "outputs": [
        {
          "output_type": "stream",
          "text": [
            "[1 2 3]\n",
            "[4 5 6]\n",
            "[[1 2 3]\n",
            " [4 5 6]]\n",
            "(2, 3)\n"
          ],
          "name": "stdout"
        }
      ]
    },
    {
      "cell_type": "code",
      "metadata": {
        "colab": {
          "base_uri": "https://localhost:8080/"
        },
        "id": "QIEuzkMz4XPh",
        "outputId": "2d1dd782-dca8-49bd-d966-965ff9197990"
      },
      "source": [
        "# create array with hstack\n",
        "from numpy import array\n",
        "from numpy import hstack\n",
        "\n",
        "a1 = array([1,2,3])\n",
        "print(a1)\n",
        "\n",
        "a2 = array([4,5,6])\n",
        "print(a2)\n",
        "\n",
        "a3 = hstack((a1, a2))\n",
        "print(a3)\n",
        "print(a3.shape)\n"
      ],
      "execution_count": 10,
      "outputs": [
        {
          "output_type": "stream",
          "text": [
            "[1 2 3]\n",
            "[4 5 6]\n",
            "[1 2 3 4 5 6]\n",
            "(6,)\n"
          ],
          "name": "stdout"
        }
      ]
    },
    {
      "cell_type": "code",
      "metadata": {
        "id": "bMwrIE4m4whn"
      },
      "source": [
        ""
      ],
      "execution_count": null,
      "outputs": []
    }
  ]
}