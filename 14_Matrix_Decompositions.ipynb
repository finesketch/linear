{
  "nbformat": 4,
  "nbformat_minor": 0,
  "metadata": {
    "colab": {
      "name": "14 - Matrix Decompositions.ipynb",
      "provenance": [],
      "authorship_tag": "ABX9TyO6/sjdHDf0Ux8ZLS3PGSTD",
      "include_colab_link": true
    },
    "kernelspec": {
      "name": "python3",
      "display_name": "Python 3"
    },
    "language_info": {
      "name": "python"
    }
  },
  "cells": [
    {
      "cell_type": "markdown",
      "metadata": {
        "id": "view-in-github",
        "colab_type": "text"
      },
      "source": [
        "<a href=\"https://colab.research.google.com/github/finesketch/linear/blob/main/14_Matrix_Decompositions.ipynb\" target=\"_parent\"><img src=\"https://colab.research.google.com/assets/colab-badge.svg\" alt=\"Open In Colab\"/></a>"
      ]
    },
    {
      "cell_type": "markdown",
      "metadata": {
        "id": "ogupEbRxjkWF"
      },
      "source": [
        "## Matrix Decompositions"
      ]
    },
    {
      "cell_type": "code",
      "metadata": {
        "colab": {
          "base_uri": "https://localhost:8080/"
        },
        "id": "Po9WelPLjkfC",
        "outputId": "2ba6b65c-2913-45f7-dfd6-c97bc7370b2c"
      },
      "source": [
        "# LU decomposition\n",
        "from numpy import array\n",
        "from scipy.linalg import lu\n",
        "\n",
        "# define a square matrix\n",
        "A = array([\n",
        "  [1, 2, 3],\n",
        "  [4, 5, 6],\n",
        "  [7, 8, 9]])\n",
        "print(A)\n",
        "\n",
        "# factorize\n",
        "P, L, U = lu(A)\n",
        "print(P)\n",
        "print(L)\n",
        "print(U)\n",
        "\n",
        "# reconstruct\n",
        "B = P.dot(L).dot(U)\n",
        "print(B)"
      ],
      "execution_count": 1,
      "outputs": [
        {
          "output_type": "stream",
          "text": [
            "[[1 2 3]\n",
            " [4 5 6]\n",
            " [7 8 9]]\n",
            "[[0. 1. 0.]\n",
            " [0. 0. 1.]\n",
            " [1. 0. 0.]]\n",
            "[[1.         0.         0.        ]\n",
            " [0.14285714 1.         0.        ]\n",
            " [0.57142857 0.5        1.        ]]\n",
            "[[7.         8.         9.        ]\n",
            " [0.         0.85714286 1.71428571]\n",
            " [0.         0.         0.        ]]\n",
            "[[1. 2. 3.]\n",
            " [4. 5. 6.]\n",
            " [7. 8. 9.]]\n"
          ],
          "name": "stdout"
        }
      ]
    },
    {
      "cell_type": "code",
      "metadata": {
        "colab": {
          "base_uri": "https://localhost:8080/"
        },
        "id": "pGs7b_42jxuP",
        "outputId": "2f689bde-1e3e-4c6d-fb35-e866d3b4400f"
      },
      "source": [
        "# QR decomposition\n",
        "from numpy import array\n",
        "from numpy.linalg import qr\n",
        "\n",
        "# define rectangular matrix\n",
        "A = array([\n",
        "  [1, 2],\n",
        "  [3, 4],\n",
        "  [5, 6]])\n",
        "print(A)\n",
        "\n",
        "# factorize\n",
        "Q, R = qr(A, 'complete')\n",
        "print(Q)\n",
        "print(R)\n",
        "\n",
        "# reconstruct\n",
        "B = Q.dot(R)\n",
        "print(B)\n"
      ],
      "execution_count": 2,
      "outputs": [
        {
          "output_type": "stream",
          "text": [
            "[[1 2]\n",
            " [3 4]\n",
            " [5 6]]\n",
            "[[-0.16903085  0.89708523  0.40824829]\n",
            " [-0.50709255  0.27602622 -0.81649658]\n",
            " [-0.84515425 -0.34503278  0.40824829]]\n",
            "[[-5.91607978 -7.43735744]\n",
            " [ 0.          0.82807867]\n",
            " [ 0.          0.        ]]\n",
            "[[1. 2.]\n",
            " [3. 4.]\n",
            " [5. 6.]]\n"
          ],
          "name": "stdout"
        }
      ]
    },
    {
      "cell_type": "code",
      "metadata": {
        "colab": {
          "base_uri": "https://localhost:8080/"
        },
        "id": "T6v8fzPGlC9h",
        "outputId": "dc5a4ec9-f5b8-4839-ce6a-9247f1024c3d"
      },
      "source": [
        "# Cholesky decomposition\n",
        "from numpy import array\n",
        "from numpy.linalg import cholesky\n",
        "\n",
        "# define symmetrical matrix\n",
        "A = array([\n",
        "  [2, 1, 1],\n",
        "  [1, 2, 1],\n",
        "  [1, 1, 2]])\n",
        "print(A)\n",
        "\n",
        "# factorize\n",
        "L = cholesky(A)\n",
        "print(L)\n",
        "\n",
        "# reconstruct\n",
        "B = L.dot(L.T)\n",
        "print(B)"
      ],
      "execution_count": 3,
      "outputs": [
        {
          "output_type": "stream",
          "text": [
            "[[2 1 1]\n",
            " [1 2 1]\n",
            " [1 1 2]]\n",
            "[[1.41421356 0.         0.        ]\n",
            " [0.70710678 1.22474487 0.        ]\n",
            " [0.70710678 0.40824829 1.15470054]]\n",
            "[[2. 1. 1.]\n",
            " [1. 2. 1.]\n",
            " [1. 1. 2.]]\n"
          ],
          "name": "stdout"
        }
      ]
    },
    {
      "cell_type": "code",
      "metadata": {
        "id": "M5BMfx4OlWqQ"
      },
      "source": [
        ""
      ],
      "execution_count": null,
      "outputs": []
    }
  ]
}