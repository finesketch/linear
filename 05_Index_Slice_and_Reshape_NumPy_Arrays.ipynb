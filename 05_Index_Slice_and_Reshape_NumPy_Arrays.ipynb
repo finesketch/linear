{
  "nbformat": 4,
  "nbformat_minor": 0,
  "metadata": {
    "colab": {
      "name": "05 - Index, Slice and Reshape NumPy Arrays.ipynb",
      "provenance": [],
      "authorship_tag": "ABX9TyP/fIgq0f1xOM2RrmgZVQio",
      "include_colab_link": true
    },
    "kernelspec": {
      "name": "python3",
      "display_name": "Python 3"
    },
    "language_info": {
      "name": "python"
    }
  },
  "cells": [
    {
      "cell_type": "markdown",
      "metadata": {
        "id": "view-in-github",
        "colab_type": "text"
      },
      "source": [
        "<a href=\"https://colab.research.google.com/github/finesketch/linear/blob/main/05_Index_Slice_and_Reshape_NumPy_Arrays.ipynb\" target=\"_parent\"><img src=\"https://colab.research.google.com/assets/colab-badge.svg\" alt=\"Open In Colab\"/></a>"
      ]
    },
    {
      "cell_type": "markdown",
      "metadata": {
        "id": "avkpU8ReKnod"
      },
      "source": [
        "## Index, Slice and Reshape NumPy Arrays"
      ]
    },
    {
      "cell_type": "code",
      "metadata": {
        "colab": {
          "base_uri": "https://localhost:8080/"
        },
        "id": "H8q3PCYPKnyp",
        "outputId": "68ca6018-dab1-4086-9396-452c7512ff8c"
      },
      "source": [
        "# create one-dimensional array\n",
        "\n",
        "from numpy import array\n",
        "\n",
        "data = [11,22,33,44,55]\n",
        "\n",
        "data = array(data)\n",
        "\n",
        "print(data)\n",
        "print(type(data))\n",
        "print(data.shape)"
      ],
      "execution_count": 3,
      "outputs": [
        {
          "output_type": "stream",
          "text": [
            "[11 22 33 44 55]\n",
            "<class 'numpy.ndarray'>\n",
            "(5,)\n"
          ],
          "name": "stdout"
        }
      ]
    },
    {
      "cell_type": "code",
      "metadata": {
        "colab": {
          "base_uri": "https://localhost:8080/"
        },
        "id": "tTK1iqroK2WN",
        "outputId": "ceb50079-7e86-4b5d-a558-a7ab55b4668f"
      },
      "source": [
        "# create two-dimensional array\n",
        "\n",
        "from numpy import array\n",
        "\n",
        "data = [[11,22], [33,44], [55,66]]\n",
        "\n",
        "data = array(data)\n",
        "\n",
        "print(data)\n",
        "print(type(data))\n",
        "print(data.shape)"
      ],
      "execution_count": 4,
      "outputs": [
        {
          "output_type": "stream",
          "text": [
            "[[11 22]\n",
            " [33 44]\n",
            " [55 66]]\n",
            "<class 'numpy.ndarray'>\n",
            "(3, 2)\n"
          ],
          "name": "stdout"
        }
      ]
    },
    {
      "cell_type": "code",
      "metadata": {
        "colab": {
          "base_uri": "https://localhost:8080/",
          "height": 232
        },
        "id": "yz3gA9a-MSMA",
        "outputId": "18050df6-8c01-483a-ec00-6d0a4e25c7fb"
      },
      "source": [
        "# index a one-dimensional array\n",
        "\n",
        "from numpy import array\n",
        "\n",
        "data = array([11, 22, 33, 44, 55])\n",
        "\n",
        "print(data[0])\n",
        "print(data[4])\n",
        "\n",
        "# error here\n",
        "print(data[5])"
      ],
      "execution_count": 7,
      "outputs": [
        {
          "output_type": "stream",
          "text": [
            "11\n",
            "55\n"
          ],
          "name": "stdout"
        },
        {
          "output_type": "error",
          "ename": "IndexError",
          "evalue": "ignored",
          "traceback": [
            "\u001b[0;31m---------------------------------------------------------------------------\u001b[0m",
            "\u001b[0;31mIndexError\u001b[0m                                Traceback (most recent call last)",
            "\u001b[0;32m<ipython-input-7-bddc5515d500>\u001b[0m in \u001b[0;36m<module>\u001b[0;34m()\u001b[0m\n\u001b[1;32m      9\u001b[0m \u001b[0;34m\u001b[0m\u001b[0m\n\u001b[1;32m     10\u001b[0m \u001b[0;31m# error here\u001b[0m\u001b[0;34m\u001b[0m\u001b[0;34m\u001b[0m\u001b[0;34m\u001b[0m\u001b[0m\n\u001b[0;32m---> 11\u001b[0;31m \u001b[0mprint\u001b[0m\u001b[0;34m(\u001b[0m\u001b[0mdata\u001b[0m\u001b[0;34m[\u001b[0m\u001b[0;36m5\u001b[0m\u001b[0;34m]\u001b[0m\u001b[0;34m)\u001b[0m\u001b[0;34m\u001b[0m\u001b[0;34m\u001b[0m\u001b[0m\n\u001b[0m",
            "\u001b[0;31mIndexError\u001b[0m: index 5 is out of bounds for axis 0 with size 5"
          ]
        }
      ]
    },
    {
      "cell_type": "code",
      "metadata": {
        "colab": {
          "base_uri": "https://localhost:8080/"
        },
        "id": "49pArpBLMmwQ",
        "outputId": "57484d0a-a975-4196-a287-b51c638e5593"
      },
      "source": [
        "# negative array indexing\n",
        "\n",
        "from numpy import array\n",
        "\n",
        "data = array([11, 22, 33, 44, 55])\n",
        "\n",
        "print(data[-1])\n",
        "print(data[-5])"
      ],
      "execution_count": 8,
      "outputs": [
        {
          "output_type": "stream",
          "text": [
            "55\n",
            "11\n"
          ],
          "name": "stdout"
        }
      ]
    },
    {
      "cell_type": "code",
      "metadata": {
        "colab": {
          "base_uri": "https://localhost:8080/"
        },
        "id": "U9bVHEsLM267",
        "outputId": "581effa6-e09e-4019-c8df-36a24cb63f58"
      },
      "source": [
        "# index two-dimensional array and indexing\n",
        "\n",
        "from numpy import array\n",
        "\n",
        "data = array([[11,22], \n",
        "              [33,44], \n",
        "              [55,66]])\n",
        "\n",
        "print(data[0,0])\n",
        "print(data[-1,0])\n",
        "print(data[0,])\n",
        "print(data[0,:])"
      ],
      "execution_count": 15,
      "outputs": [
        {
          "output_type": "stream",
          "text": [
            "11\n",
            "55\n",
            "[11 22]\n",
            "[11 22]\n"
          ],
          "name": "stdout"
        }
      ]
    },
    {
      "cell_type": "code",
      "metadata": {
        "colab": {
          "base_uri": "https://localhost:8080/"
        },
        "id": "BwR2TeCNNH7B",
        "outputId": "75bb4cb4-8ff1-439d-ef94-2a70177b848c"
      },
      "source": [
        "# slice a one-dimensional array and slicing\n",
        "\n",
        "from numpy import array\n",
        "\n",
        "data = array([11, 22, 33, 44, 55])\n",
        "\n",
        "print(data[:])\n",
        "print(data[0:1])\n",
        "print(data[0:2])\n",
        "print(data[-2:])\n",
        "print(data[-3:-1])"
      ],
      "execution_count": 23,
      "outputs": [
        {
          "output_type": "stream",
          "text": [
            "[11 22 33 44 55]\n",
            "[11]\n",
            "[11 22]\n",
            "[44 55]\n",
            "[33 44]\n"
          ],
          "name": "stdout"
        }
      ]
    },
    {
      "cell_type": "code",
      "metadata": {
        "colab": {
          "base_uri": "https://localhost:8080/"
        },
        "id": "BpImfywaNvxU",
        "outputId": "0c2721c2-b8b2-4f84-9605-82ea5a2a399c"
      },
      "source": [
        "# Two-Dimensional Slicing\n",
        "# split input and output data\n",
        "\n",
        "from numpy import array\n",
        "\n",
        "data = array([\n",
        "  [11, 22, 33],\n",
        "  [44, 55, 66],\n",
        "  [77, 88, 99]])\n",
        "\n",
        "X, y = data[:,:-1], data[:,-1]\n",
        "\n",
        "print(X)\n",
        "print(y)"
      ],
      "execution_count": 26,
      "outputs": [
        {
          "output_type": "stream",
          "text": [
            "[[11 22]\n",
            " [44 55]\n",
            " [77 88]]\n",
            "[33 66 99]\n"
          ],
          "name": "stdout"
        }
      ]
    },
    {
      "cell_type": "code",
      "metadata": {
        "colab": {
          "base_uri": "https://localhost:8080/"
        },
        "id": "4ZVd_CcAOpa2",
        "outputId": "36e99a33-c40e-4a70-c8a7-31895c02adca"
      },
      "source": [
        "# split train and test data\n",
        "\n",
        "from numpy import array\n",
        "\n",
        "data = array([\n",
        "  [11, 22, 33],\n",
        "  [44, 55, 66],\n",
        "  [77, 88, 99]])\n",
        "\n",
        "split = 2\n",
        "\n",
        "X_train, y_train = data[:split, :], data[split:, :]\n",
        "\n",
        "print(X_train)\n",
        "print(y_train)"
      ],
      "execution_count": 27,
      "outputs": [
        {
          "output_type": "stream",
          "text": [
            "[[11 22 33]\n",
            " [44 55 66]]\n",
            "[[77 88 99]]\n"
          ],
          "name": "stdout"
        }
      ]
    },
    {
      "cell_type": "code",
      "metadata": {
        "colab": {
          "base_uri": "https://localhost:8080/"
        },
        "id": "c9utGl4hPmx3",
        "outputId": "8387c66c-1f43-4fa9-9906-f173869c8df8"
      },
      "source": [
        "# shape of one-dimensional array\n",
        "\n",
        "from numpy import array\n",
        "\n",
        "data = array([11, 22, 33, 44, 55])\n",
        "\n",
        "print(data.shape)"
      ],
      "execution_count": 28,
      "outputs": [
        {
          "output_type": "stream",
          "text": [
            "(5,)\n"
          ],
          "name": "stdout"
        }
      ]
    },
    {
      "cell_type": "code",
      "metadata": {
        "colab": {
          "base_uri": "https://localhost:8080/"
        },
        "id": "m1EeqdCMP35L",
        "outputId": "d1c1c457-64d3-48f2-a15b-58a38f5197da"
      },
      "source": [
        "# shape of a two-dimensional array\n",
        "from numpy import array\n",
        "\n",
        "data = [[11, 22],\n",
        "        [33, 44],\n",
        "        [55, 66]]\n",
        "\n",
        "data = array(data)\n",
        "\n",
        "print(data.shape)"
      ],
      "execution_count": 29,
      "outputs": [
        {
          "output_type": "stream",
          "text": [
            "(3, 2)\n"
          ],
          "name": "stdout"
        }
      ]
    },
    {
      "cell_type": "code",
      "metadata": {
        "colab": {
          "base_uri": "https://localhost:8080/"
        },
        "id": "UWiHlXqnQCLr",
        "outputId": "95e5ab74-c0b7-4b43-b6b3-53cab712b8ae"
      },
      "source": [
        "# row and column shape of two-dimensional array\n",
        "\n",
        "from numpy import array\n",
        "\n",
        "data = [[11, 22],\n",
        "        [33, 44],\n",
        "        [55, 66]]\n",
        "\n",
        "data = array(data)\n",
        "\n",
        "print('Rows: %d' % data.shape[0]) \n",
        "print('Cols: %d' % data.shape[1])"
      ],
      "execution_count": 30,
      "outputs": [
        {
          "output_type": "stream",
          "text": [
            "Rows: 3\n",
            "Cols: 2\n"
          ],
          "name": "stdout"
        }
      ]
    },
    {
      "cell_type": "code",
      "metadata": {
        "colab": {
          "base_uri": "https://localhost:8080/"
        },
        "id": "Z8ewZ478QQgN",
        "outputId": "afc97caf-e43f-4eff-9e1e-36c0d35c6ff9"
      },
      "source": [
        "# reshape 1D array to 2D\n",
        "\n",
        "from numpy import array\n",
        "\n",
        "data = array([11, 22, 33, 44, 55])\n",
        "\n",
        "print(data.shape)\n",
        "print(data)\n",
        "print()\n",
        "\n",
        "data = data.reshape((data.shape[0], 1))\n",
        "print(data.shape)\n",
        "print(data)"
      ],
      "execution_count": 33,
      "outputs": [
        {
          "output_type": "stream",
          "text": [
            "(5,)\n",
            "[11 22 33 44 55]\n",
            "\n",
            "(5, 1)\n",
            "[[11]\n",
            " [22]\n",
            " [33]\n",
            " [44]\n",
            " [55]]\n"
          ],
          "name": "stdout"
        }
      ]
    },
    {
      "cell_type": "code",
      "metadata": {
        "id": "heW2qCb3QZjb"
      },
      "source": [
        ""
      ],
      "execution_count": null,
      "outputs": []
    }
  ]
}