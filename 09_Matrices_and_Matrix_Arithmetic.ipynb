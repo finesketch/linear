{
  "nbformat": 4,
  "nbformat_minor": 0,
  "metadata": {
    "colab": {
      "name": "09 - Matrices and Matrix Arithmetic.ipynb",
      "provenance": [],
      "authorship_tag": "ABX9TyM4/PMn3CIObTCFjfY5XV1X",
      "include_colab_link": true
    },
    "kernelspec": {
      "name": "python3",
      "display_name": "Python 3"
    },
    "language_info": {
      "name": "python"
    }
  },
  "cells": [
    {
      "cell_type": "markdown",
      "metadata": {
        "id": "view-in-github",
        "colab_type": "text"
      },
      "source": [
        "<a href=\"https://colab.research.google.com/github/finesketch/linear/blob/main/09_Matrices_and_Matrix_Arithmetic.ipynb\" target=\"_parent\"><img src=\"https://colab.research.google.com/assets/colab-badge.svg\" alt=\"Open In Colab\"/></a>"
      ]
    },
    {
      "cell_type": "markdown",
      "metadata": {
        "id": "dUadCsiZDpmS"
      },
      "source": [
        "## Matrices and Matrix Arithmetic"
      ]
    },
    {
      "cell_type": "code",
      "metadata": {
        "colab": {
          "base_uri": "https://localhost:8080/"
        },
        "id": "fJpxQOuMDpyl",
        "outputId": "0bdd9ebe-b434-4210-ec52-3cf399782879"
      },
      "source": [
        "# create matrix\n",
        "from numpy import array\n",
        "A = array([[1, 2, 3], [4, 5, 6]])\n",
        "print(A)"
      ],
      "execution_count": 1,
      "outputs": [
        {
          "output_type": "stream",
          "text": [
            "[[1 2 3]\n",
            " [4 5 6]]\n"
          ],
          "name": "stdout"
        }
      ]
    },
    {
      "cell_type": "code",
      "metadata": {
        "colab": {
          "base_uri": "https://localhost:8080/"
        },
        "id": "gGRcNsNSHCRi",
        "outputId": "1bdb9c81-61d1-4fea-a8cc-79b71ad44f76"
      },
      "source": [
        "# matrix addition\n",
        "from numpy import array\n",
        "\n",
        "A = array([\n",
        "  [1, 2, 3],\n",
        "  [4, 5, 6]])\n",
        "print(A)\n",
        "\n",
        "B = array([\n",
        "  [1, 2, 3],\n",
        "  [4, 5, 6]]) \n",
        "print(B)\n",
        "\n",
        "C = A + B \n",
        "print(C)"
      ],
      "execution_count": 2,
      "outputs": [
        {
          "output_type": "stream",
          "text": [
            "[[1 2 3]\n",
            " [4 5 6]]\n",
            "[[1 2 3]\n",
            " [4 5 6]]\n",
            "[[ 2  4  6]\n",
            " [ 8 10 12]]\n"
          ],
          "name": "stdout"
        }
      ]
    },
    {
      "cell_type": "code",
      "metadata": {
        "colab": {
          "base_uri": "https://localhost:8080/"
        },
        "id": "08FVM4TQHe1L",
        "outputId": "43ccdd3b-9bf0-438e-ef21-b172499073f7"
      },
      "source": [
        "# matrix subtraction\n",
        "from numpy import array\n",
        "\n",
        "A = array([\n",
        "  [1, 2, 3],\n",
        "  [4, 5, 6]])\n",
        "print(A)\n",
        "\n",
        "B = array([\n",
        "  [0.5, 0.5, 0.5],\n",
        "  [0.5, 0.5, 0.5]]) \n",
        "print(B)\n",
        "\n",
        "C = A - B\n",
        "print(C)"
      ],
      "execution_count": 3,
      "outputs": [
        {
          "output_type": "stream",
          "text": [
            "[[1 2 3]\n",
            " [4 5 6]]\n",
            "[[0.5 0.5 0.5]\n",
            " [0.5 0.5 0.5]]\n",
            "[[0.5 1.5 2.5]\n",
            " [3.5 4.5 5.5]]\n"
          ],
          "name": "stdout"
        }
      ]
    },
    {
      "cell_type": "code",
      "metadata": {
        "colab": {
          "base_uri": "https://localhost:8080/"
        },
        "id": "f_zEhVa8Hwob",
        "outputId": "6fdf23a7-f00f-4208-c7ac-67e82decddfd"
      },
      "source": [
        "# matrix Hadamard product\n",
        "from numpy import array\n",
        "\n",
        "A = array([\n",
        "  [1, 2, 3],\n",
        "  [4, 5, 6]])\n",
        "print(A)\n",
        "\n",
        "B = array([\n",
        "  [1, 2, 3],\n",
        "  [4, 5, 6]]) \n",
        "print(B)\n",
        "\n",
        "C = A * B\n",
        "print(C)"
      ],
      "execution_count": 4,
      "outputs": [
        {
          "output_type": "stream",
          "text": [
            "[[1 2 3]\n",
            " [4 5 6]]\n",
            "[[1 2 3]\n",
            " [4 5 6]]\n",
            "[[ 1  4  9]\n",
            " [16 25 36]]\n"
          ],
          "name": "stdout"
        }
      ]
    },
    {
      "cell_type": "code",
      "metadata": {
        "colab": {
          "base_uri": "https://localhost:8080/"
        },
        "id": "xlQyQ9QEH_mz",
        "outputId": "8beca66e-3c2c-4882-c5a1-6f8e1a2fb9ba"
      },
      "source": [
        "# matrix division\n",
        "from numpy import array\n",
        "\n",
        "A = array([\n",
        "  [1, 2, 3],\n",
        "  [4, 5, 6]])\n",
        "print(A)\n",
        "\n",
        "B = array([\n",
        "  [1, 2, 3],\n",
        "  [4, 5, 6]]) \n",
        "print(B)\n",
        "\n",
        "C = A / B \n",
        "print(C)"
      ],
      "execution_count": 5,
      "outputs": [
        {
          "output_type": "stream",
          "text": [
            "[[1 2 3]\n",
            " [4 5 6]]\n",
            "[[1 2 3]\n",
            " [4 5 6]]\n",
            "[[1. 1. 1.]\n",
            " [1. 1. 1.]]\n"
          ],
          "name": "stdout"
        }
      ]
    },
    {
      "cell_type": "code",
      "metadata": {
        "colab": {
          "base_uri": "https://localhost:8080/"
        },
        "id": "br2y2vIQIc9Y",
        "outputId": "82b1a4b1-2ced-400a-c062-9505212c4fe5"
      },
      "source": [
        "# matrix dot product\n",
        "from numpy import array\n",
        "\n",
        "A = array([\n",
        "  [1, 2],\n",
        "  [3, 4],\n",
        "  [5, 6]])\n",
        "print(A)\n",
        "\n",
        "B = array([\n",
        "  [1, 2],\n",
        "  [3, 4]])\n",
        "print(B)\n",
        "\n",
        "C = A.dot(B)\n",
        "print(C)\n",
        "\n",
        "D = A @ B\n",
        "print(D)"
      ],
      "execution_count": 6,
      "outputs": [
        {
          "output_type": "stream",
          "text": [
            "[[1 2]\n",
            " [3 4]\n",
            " [5 6]]\n",
            "[[1 2]\n",
            " [3 4]]\n",
            "[[ 7 10]\n",
            " [15 22]\n",
            " [23 34]]\n",
            "[[ 7 10]\n",
            " [15 22]\n",
            " [23 34]]\n"
          ],
          "name": "stdout"
        }
      ]
    },
    {
      "cell_type": "code",
      "metadata": {
        "colab": {
          "base_uri": "https://localhost:8080/"
        },
        "id": "Mxuh9P86Kc0M",
        "outputId": "8b7df6f9-953e-4c13-d1b3-b22ade14b440"
      },
      "source": [
        "# matrix-vector multiplication\n",
        "from numpy import array\n",
        "\n",
        "A = array([\n",
        "  [1, 2],\n",
        "  [3, 4],\n",
        "  [5, 6]])\n",
        "print(A)\n",
        "\n",
        "B = array([0.5, 0.5])\n",
        "print(B)\n",
        "\n",
        "C = A.dot(B)\n",
        "print(C)\n"
      ],
      "execution_count": 7,
      "outputs": [
        {
          "output_type": "stream",
          "text": [
            "[[1 2]\n",
            " [3 4]\n",
            " [5 6]]\n",
            "[0.5 0.5]\n",
            "[1.5 3.5 5.5]\n"
          ],
          "name": "stdout"
        }
      ]
    },
    {
      "cell_type": "code",
      "metadata": {
        "colab": {
          "base_uri": "https://localhost:8080/"
        },
        "id": "3dKOxD59NvbI",
        "outputId": "e700c010-2d68-4f2a-b2fe-a3bf1a678e60"
      },
      "source": [
        "# matrix-scalar multiplication\n",
        "from numpy import array\n",
        "\n",
        "A = array([[1, 2], [3, 4], [5, 6]]) \n",
        "print(A)\n",
        "\n",
        "b = 0.5\n",
        "print(b)\n",
        "\n",
        "C = A * b\n",
        "print(C)"
      ],
      "execution_count": 9,
      "outputs": [
        {
          "output_type": "stream",
          "text": [
            "[[1 2]\n",
            " [3 4]\n",
            " [5 6]]\n",
            "0.5\n",
            "[[0.5 1. ]\n",
            " [1.5 2. ]\n",
            " [2.5 3. ]]\n"
          ],
          "name": "stdout"
        }
      ]
    },
    {
      "cell_type": "code",
      "metadata": {
        "id": "soZEFmUDOJ4y"
      },
      "source": [
        ""
      ],
      "execution_count": null,
      "outputs": []
    }
  ]
}