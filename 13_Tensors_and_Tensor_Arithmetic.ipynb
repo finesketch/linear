{
  "nbformat": 4,
  "nbformat_minor": 0,
  "metadata": {
    "colab": {
      "name": "13 - Tensors and Tensor Arithmetic.ipynb",
      "provenance": [],
      "authorship_tag": "ABX9TyNJf0S9OKN02Pv3Oz/rZMOb",
      "include_colab_link": true
    },
    "kernelspec": {
      "name": "python3",
      "display_name": "Python 3"
    },
    "language_info": {
      "name": "python"
    }
  },
  "cells": [
    {
      "cell_type": "markdown",
      "metadata": {
        "id": "view-in-github",
        "colab_type": "text"
      },
      "source": [
        "<a href=\"https://colab.research.google.com/github/finesketch/linear/blob/main/13_Tensors_and_Tensor_Arithmetic.ipynb\" target=\"_parent\"><img src=\"https://colab.research.google.com/assets/colab-badge.svg\" alt=\"Open In Colab\"/></a>"
      ]
    },
    {
      "cell_type": "markdown",
      "metadata": {
        "id": "0zt8J24ALz72"
      },
      "source": [
        "## Tensors and Tensor Arithmetic"
      ]
    },
    {
      "cell_type": "code",
      "metadata": {
        "colab": {
          "base_uri": "https://localhost:8080/"
        },
        "id": "-vU1Sa7rL0GO",
        "outputId": "b3fe099f-4611-4392-822f-5abd86fa8a61"
      },
      "source": [
        "# create tensor\n",
        "from numpy import array\n",
        "T = array([\n",
        "  [[1,2,3], [4,5,6], [7,8,9]], \n",
        "  [[11,12,13], [14,15,16], [17,18,19]], \n",
        "  [[21,22,23], [24,25,26], [27,28,29]]\n",
        "  ])\n",
        "print(T.shape)\n",
        "print(T)"
      ],
      "execution_count": 1,
      "outputs": [
        {
          "output_type": "stream",
          "text": [
            "(3, 3, 3)\n",
            "[[[ 1  2  3]\n",
            "  [ 4  5  6]\n",
            "  [ 7  8  9]]\n",
            "\n",
            " [[11 12 13]\n",
            "  [14 15 16]\n",
            "  [17 18 19]]\n",
            "\n",
            " [[21 22 23]\n",
            "  [24 25 26]\n",
            "  [27 28 29]]]\n"
          ],
          "name": "stdout"
        }
      ]
    },
    {
      "cell_type": "code",
      "metadata": {
        "colab": {
          "base_uri": "https://localhost:8080/"
        },
        "id": "EGgQe_Q4NwF6",
        "outputId": "34b0c858-cd10-4073-af30-67cd353e17b7"
      },
      "source": [
        "# tensor addition\n",
        "from numpy import array\n",
        "\n",
        "# define first tensor\n",
        "A = array([\n",
        "  [[1,2,3], [4,5,6], [7,8,9]], \n",
        "  [[11,12,13], [14,15,16], [17,18,19]], \n",
        "  [[21,22,23], [24,25,26], [27,28,29]]\n",
        "  ])\n",
        "\n",
        "# define second tensor\n",
        "B = array([\n",
        "  [[1,2,3], [4,5,6], [7,8,9]], \n",
        "  [[11,12,13], [14,15,16], [17,18,19]], \n",
        "  [[21,22,23], [24,25,26], [27,28,29]]\n",
        "  ])\n",
        "\n",
        "# add tensors\n",
        "C = A + B \n",
        "print(C)"
      ],
      "execution_count": 3,
      "outputs": [
        {
          "output_type": "stream",
          "text": [
            "[[[ 2  4  6]\n",
            "  [ 8 10 12]\n",
            "  [14 16 18]]\n",
            "\n",
            " [[22 24 26]\n",
            "  [28 30 32]\n",
            "  [34 36 38]]\n",
            "\n",
            " [[42 44 46]\n",
            "  [48 50 52]\n",
            "  [54 56 58]]]\n"
          ],
          "name": "stdout"
        }
      ]
    },
    {
      "cell_type": "code",
      "metadata": {
        "colab": {
          "base_uri": "https://localhost:8080/"
        },
        "id": "Y_nWz9erOPgd",
        "outputId": "f976e05d-c143-4aa4-e808-ce2eb6ef517e"
      },
      "source": [
        "# tensor subtraction\n",
        "from numpy import array\n",
        "\n",
        "# define first tensor\n",
        "A = array([\n",
        "  [[1,2,3], [4,5,6], [7,8,9]], \n",
        "  [[11,12,13], [14,15,16], [17,18,19]], \n",
        "  [[21,22,23], [24,25,26], [27,28,29]]\n",
        "  ])\n",
        "\n",
        "# define second tensor\n",
        "B = array([\n",
        "  [[1,2,3], [4,5,6], [7,8,9]], \n",
        "  [[11,12,13], [14,15,16], [17,18,19]], \n",
        "  [[21,22,23], [24,25,26], [27,28,29]]\n",
        "  ])\n",
        "\n",
        "# subtract tensors\n",
        "C = A - B \n",
        "print(C)"
      ],
      "execution_count": 4,
      "outputs": [
        {
          "output_type": "stream",
          "text": [
            "[[[0 0 0]\n",
            "  [0 0 0]\n",
            "  [0 0 0]]\n",
            "\n",
            " [[0 0 0]\n",
            "  [0 0 0]\n",
            "  [0 0 0]]\n",
            "\n",
            " [[0 0 0]\n",
            "  [0 0 0]\n",
            "  [0 0 0]]]\n"
          ],
          "name": "stdout"
        }
      ]
    },
    {
      "cell_type": "code",
      "metadata": {
        "colab": {
          "base_uri": "https://localhost:8080/"
        },
        "id": "zq9Oxfm3dKqk",
        "outputId": "aa9f8b11-2eb8-41d2-b653-5d5cc40990c1"
      },
      "source": [
        "# tensor Hadamard product\n",
        "from numpy import array\n",
        "\n",
        "# define first tensor\n",
        "A = array([\n",
        "  [[1,2,3], [4,5,6], [7,8,9]], \n",
        "  [[11,12,13], [14,15,16], [17,18,19]], \n",
        "  [[21,22,23], [24,25,26], [27,28,29]]\n",
        "  ])\n",
        "\n",
        "# define second tensor\n",
        "B = array([\n",
        "  [[1,2,3], [4,5,6], [7,8,9]], \n",
        "  [[11,12,13], [14,15,16], [17,18,19]], \n",
        "  [[21,22,23], [24,25,26], [27,28,29]]\n",
        "  ])\n",
        "\n",
        "# multiply tensors\n",
        "C = A * B \n",
        "print(C)"
      ],
      "execution_count": 5,
      "outputs": [
        {
          "output_type": "stream",
          "text": [
            "[[[  1   4   9]\n",
            "  [ 16  25  36]\n",
            "  [ 49  64  81]]\n",
            "\n",
            " [[121 144 169]\n",
            "  [196 225 256]\n",
            "  [289 324 361]]\n",
            "\n",
            " [[441 484 529]\n",
            "  [576 625 676]\n",
            "  [729 784 841]]]\n"
          ],
          "name": "stdout"
        }
      ]
    },
    {
      "cell_type": "code",
      "metadata": {
        "colab": {
          "base_uri": "https://localhost:8080/"
        },
        "id": "yRsw3-GVdkHf",
        "outputId": "bf46bf4f-94ae-45c0-c798-0029a9f71345"
      },
      "source": [
        "# tensor division\n",
        "from numpy import array\n",
        "\n",
        "# define first tensor\n",
        "A = array([\n",
        "  [[1,2,3], [4,5,6], [7,8,9]], \n",
        "  [[11,12,13], [14,15,16], [17,18,19]], \n",
        "  [[21,22,23], [24,25,26], [27,28,29]]\n",
        "  ])\n",
        "\n",
        "# define second tensor\n",
        "B = array([\n",
        "  [[1,2,3], [4,5,6], [7,8,9]], \n",
        "  [[11,12,13], [14,15,16], [17,18,19]], \n",
        "  [[21,22,23], [24,25,26], [27,28,29]]\n",
        "  ])\n",
        "\n",
        "# divide tensors\n",
        "C = A / B\n",
        "print(C)"
      ],
      "execution_count": 7,
      "outputs": [
        {
          "output_type": "stream",
          "text": [
            "[[[1. 1. 1.]\n",
            "  [1. 1. 1.]\n",
            "  [1. 1. 1.]]\n",
            "\n",
            " [[1. 1. 1.]\n",
            "  [1. 1. 1.]\n",
            "  [1. 1. 1.]]\n",
            "\n",
            " [[1. 1. 1.]\n",
            "  [1. 1. 1.]\n",
            "  [1. 1. 1.]]]\n"
          ],
          "name": "stdout"
        }
      ]
    },
    {
      "cell_type": "code",
      "metadata": {
        "colab": {
          "base_uri": "https://localhost:8080/"
        },
        "id": "ZtQdU8gLd1Zu",
        "outputId": "ce4629a6-1620-44a0-b21d-d2f5f8f0d8f4"
      },
      "source": [
        "# tensor product\n",
        "from numpy import array\n",
        "from numpy import tensordot\n",
        "\n",
        "# define first vector\n",
        "A = array([1,2])\n",
        "\n",
        "# define second vector\n",
        "B = array([3,4])\n",
        "\n",
        "# calculate tensor product\n",
        "C = tensordot(A, B, axes=0)\n",
        "print(C)"
      ],
      "execution_count": 8,
      "outputs": [
        {
          "output_type": "stream",
          "text": [
            "[[3 4]\n",
            " [6 8]]\n"
          ],
          "name": "stdout"
        }
      ]
    },
    {
      "cell_type": "code",
      "metadata": {
        "id": "bLrMkmv6e4Hn"
      },
      "source": [
        ""
      ],
      "execution_count": null,
      "outputs": []
    }
  ]
}