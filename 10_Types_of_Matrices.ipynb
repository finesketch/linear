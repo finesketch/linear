{
  "nbformat": 4,
  "nbformat_minor": 0,
  "metadata": {
    "colab": {
      "name": "10 - Types of Matrices.ipynb",
      "provenance": [],
      "authorship_tag": "ABX9TyPdQmC2Ls7IYscKdLDcpPAQ",
      "include_colab_link": true
    },
    "kernelspec": {
      "name": "python3",
      "display_name": "Python 3"
    },
    "language_info": {
      "name": "python"
    }
  },
  "cells": [
    {
      "cell_type": "markdown",
      "metadata": {
        "id": "view-in-github",
        "colab_type": "text"
      },
      "source": [
        "<a href=\"https://colab.research.google.com/github/finesketch/linear/blob/main/10_Types_of_Matrices.ipynb\" target=\"_parent\"><img src=\"https://colab.research.google.com/assets/colab-badge.svg\" alt=\"Open In Colab\"/></a>"
      ]
    },
    {
      "cell_type": "markdown",
      "metadata": {
        "id": "bFtIsUZvP8_s"
      },
      "source": [
        "## Types of Matrices"
      ]
    },
    {
      "cell_type": "code",
      "metadata": {
        "id": "dRMy161HP9ZP"
      },
      "source": [
        "# example of square matrix\n",
        "\n",
        "from numpy import array\n",
        "\n",
        "a = array([[1, 2, 3],\n",
        "          [4, 5, 6],\n",
        "          [7, 8, 9]])"
      ],
      "execution_count": 3,
      "outputs": []
    },
    {
      "cell_type": "code",
      "metadata": {
        "id": "DNCN8NUggVWM"
      },
      "source": [
        "# symmetric Matrix\n",
        "\n",
        "from numpy import array\n",
        "\n",
        "a = array([[1, 2, 3],\n",
        "          [2, 1, 2],\n",
        "          [3, 2, 1]])"
      ],
      "execution_count": 5,
      "outputs": []
    },
    {
      "cell_type": "code",
      "metadata": {
        "colab": {
          "base_uri": "https://localhost:8080/"
        },
        "id": "QQxrG5yng7iP",
        "outputId": "ac7e19c6-e955-4fe9-ca0f-6ce0e67f5658"
      },
      "source": [
        "# triangular Matrix\n",
        "\n",
        "from numpy import array\n",
        "\n",
        "a = array([[1, 2, 3],\n",
        "          [0, 1, 2],\n",
        "          [0, 0, 1]])\n",
        "\n",
        "b = array([[1, 0, 0],\n",
        "          [2, 1, 0],\n",
        "          [3, 2, 1]])\n",
        "\n",
        "# triangular matrices\n",
        "from numpy import array\n",
        "from numpy import tril\n",
        "from numpy import triu\n",
        "\n",
        "M = array([\n",
        "  [1, 2, 3],\n",
        "  [1, 2, 3],\n",
        "  [1, 2, 3]])\n",
        "print(M)\n",
        "\n",
        "lower = tril(M)\n",
        "print(lower)\n",
        "\n",
        "upper = triu(M)\n",
        "print(upper)"
      ],
      "execution_count": 2,
      "outputs": [
        {
          "output_type": "stream",
          "text": [
            "[[1 2 3]\n",
            " [1 2 3]\n",
            " [1 2 3]]\n",
            "[[1 0 0]\n",
            " [1 2 0]\n",
            " [1 2 3]]\n",
            "[[1 2 3]\n",
            " [0 2 3]\n",
            " [0 0 3]]\n"
          ],
          "name": "stdout"
        }
      ]
    },
    {
      "cell_type": "code",
      "metadata": {
        "colab": {
          "base_uri": "https://localhost:8080/"
        },
        "id": "bzXKmH_7hN4u",
        "outputId": "664033e0-afe6-4ba8-f809-3443250ef8be"
      },
      "source": [
        "# diagonal matrix\n",
        "from numpy import array\n",
        "from numpy import diag\n",
        "\n",
        "M = array([\n",
        "  [1, 2, 3],\n",
        "  [1, 2, 3],\n",
        "  [1, 2, 3]])\n",
        "print(M)\n",
        "\n",
        "d = diag(M)\n",
        "print(d)\n",
        "\n",
        "D = diag(d)\n",
        "print(D)"
      ],
      "execution_count": 6,
      "outputs": [
        {
          "output_type": "stream",
          "text": [
            "[[1 2 3]\n",
            " [1 2 3]\n",
            " [1 2 3]]\n",
            "[1 2 3]\n",
            "[[1 0 0]\n",
            " [0 2 0]\n",
            " [0 0 3]]\n"
          ],
          "name": "stdout"
        }
      ]
    },
    {
      "cell_type": "code",
      "metadata": {
        "colab": {
          "base_uri": "https://localhost:8080/"
        },
        "id": "b11i68udh9Ym",
        "outputId": "a2df61d8-49fc-4bc4-c10d-d30846adcabb"
      },
      "source": [
        "# identity matrix\n",
        "from numpy import identity\n",
        "\n",
        "I = identity(3)\n",
        "print(I)"
      ],
      "execution_count": 7,
      "outputs": [
        {
          "output_type": "stream",
          "text": [
            "[[1. 0. 0.]\n",
            " [0. 1. 0.]\n",
            " [0. 0. 1.]]\n"
          ],
          "name": "stdout"
        }
      ]
    },
    {
      "cell_type": "code",
      "metadata": {
        "colab": {
          "base_uri": "https://localhost:8080/"
        },
        "id": "2WzSowHVinI1",
        "outputId": "3e47fa61-62eb-47cd-ae31-528a84d43721"
      },
      "source": [
        "# orthogonal matrix\n",
        "from numpy import array\n",
        "from numpy.linalg import inv\n",
        "\n",
        "Q = array([\n",
        "  [1, 0],\n",
        "  [0, -1]])\n",
        "print(Q)\n",
        "\n",
        "# inverse equivalence\n",
        "V = inv(Q)\n",
        "print(Q.T)\n",
        "print(V)\n",
        "\n",
        "# identity equivalence\n",
        "I = Q.dot(Q.T)\n",
        "print(I)"
      ],
      "execution_count": 8,
      "outputs": [
        {
          "output_type": "stream",
          "text": [
            "[[ 1  0]\n",
            " [ 0 -1]]\n",
            "[[ 1  0]\n",
            " [ 0 -1]]\n",
            "[[ 1.  0.]\n",
            " [-0. -1.]]\n",
            "[[1 0]\n",
            " [0 1]]\n"
          ],
          "name": "stdout"
        }
      ]
    },
    {
      "cell_type": "code",
      "metadata": {
        "id": "sKba-0vUjSAc"
      },
      "source": [
        ""
      ],
      "execution_count": null,
      "outputs": []
    }
  ]
}