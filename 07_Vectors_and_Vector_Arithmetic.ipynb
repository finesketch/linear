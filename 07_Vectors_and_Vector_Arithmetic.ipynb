{
  "nbformat": 4,
  "nbformat_minor": 0,
  "metadata": {
    "colab": {
      "name": "07 - Vectors and Vector Arithmetic.ipynb",
      "provenance": [],
      "authorship_tag": "ABX9TyPrJHqduOIF93m3Qqwqu8mj",
      "include_colab_link": true
    },
    "kernelspec": {
      "name": "python3",
      "display_name": "Python 3"
    },
    "language_info": {
      "name": "python"
    }
  },
  "cells": [
    {
      "cell_type": "markdown",
      "metadata": {
        "id": "view-in-github",
        "colab_type": "text"
      },
      "source": [
        "<a href=\"https://colab.research.google.com/github/finesketch/linear/blob/main/07_Vectors_and_Vector_Arithmetic.ipynb\" target=\"_parent\"><img src=\"https://colab.research.google.com/assets/colab-badge.svg\" alt=\"Open In Colab\"/></a>"
      ]
    },
    {
      "cell_type": "markdown",
      "metadata": {
        "id": "_hsLpDKjhYRT"
      },
      "source": [
        "## Vectors and Vector Arithmetic"
      ]
    },
    {
      "cell_type": "code",
      "metadata": {
        "colab": {
          "base_uri": "https://localhost:8080/"
        },
        "id": "_mY8f6HHhYbr",
        "outputId": "f6f79e09-2ecb-4b5f-986a-44933655d962"
      },
      "source": [
        "from numpy import array\n",
        "\n",
        "v = array([1, 2, 3])\n",
        "\n",
        "print(v)"
      ],
      "execution_count": 1,
      "outputs": [
        {
          "output_type": "stream",
          "text": [
            "[1 2 3]\n"
          ],
          "name": "stdout"
        }
      ]
    },
    {
      "cell_type": "code",
      "metadata": {
        "colab": {
          "base_uri": "https://localhost:8080/"
        },
        "id": "2UzC7PZxieK4",
        "outputId": "802da01e-ac7f-49e4-c2ec-1aafa88d3ffa"
      },
      "source": [
        "# vector addition\n",
        "# two vectors of equal length can be added together to create a new third vector\n",
        "from numpy import array\n",
        "\n",
        "a = array([1, 2, 3])\n",
        "print(a)\n",
        "\n",
        "b = array([2, 3, 4]) \n",
        "print(b)\n",
        "\n",
        "c = a + b\n",
        "print(c)"
      ],
      "execution_count": 3,
      "outputs": [
        {
          "output_type": "stream",
          "text": [
            "[1 2 3]\n",
            "[2 3 4]\n",
            "[3 5 7]\n"
          ],
          "name": "stdout"
        }
      ]
    },
    {
      "cell_type": "code",
      "metadata": {
        "colab": {
          "base_uri": "https://localhost:8080/"
        },
        "id": "Pe_CH8Agixjo",
        "outputId": "0b52864c-5a95-4d15-906a-74b259c38fb6"
      },
      "source": [
        "# vector subtraction\n",
        "# one vector can be subtracted from another vector of equal length to create a new third vector.\n",
        "from numpy import array\n",
        "\n",
        "a = array([1, 2, 3])\n",
        "print(a)\n",
        "\n",
        "b = array([0.5, 0.5, 0.5]) \n",
        "print(b)\n",
        "\n",
        "c = a - b\n",
        "print(c)"
      ],
      "execution_count": 4,
      "outputs": [
        {
          "output_type": "stream",
          "text": [
            "[1 2 3]\n",
            "[0.5 0.5 0.5]\n",
            "[0.5 1.5 2.5]\n"
          ],
          "name": "stdout"
        }
      ]
    },
    {
      "cell_type": "code",
      "metadata": {
        "colab": {
          "base_uri": "https://localhost:8080/"
        },
        "id": "XC0NBcvQi9qe",
        "outputId": "47086336-cae1-481f-eb72-0499a7eb8a0d"
      },
      "source": [
        "# vector multiplication\n",
        "# two vectors of equal length can be multiplied together.\n",
        "from numpy import array\n",
        "\n",
        "a = array([1, 2, 3])\n",
        "print(a)\n",
        "\n",
        "b = array([1, 2, 3]) \n",
        "print(b)\n",
        "\n",
        "c = a * b\n",
        "print(c)"
      ],
      "execution_count": 5,
      "outputs": [
        {
          "output_type": "stream",
          "text": [
            "[1 2 3]\n",
            "[1 2 3]\n",
            "[1 4 9]\n"
          ],
          "name": "stdout"
        }
      ]
    },
    {
      "cell_type": "code",
      "metadata": {
        "colab": {
          "base_uri": "https://localhost:8080/"
        },
        "id": "RY-UmYFClaW_",
        "outputId": "9f7c16fd-7250-4f21-b4df-b961322bed98"
      },
      "source": [
        "# vector division\n",
        "# two vectors of equal length can be divided\n",
        "from numpy import array\n",
        "\n",
        "a = array([1, 2, 3])\n",
        "print(a)\n",
        "\n",
        "b = array([1, 2, 3]) \n",
        "print(b)\n",
        "\n",
        "c = a / b\n",
        "print(c)"
      ],
      "execution_count": 6,
      "outputs": [
        {
          "output_type": "stream",
          "text": [
            "[1 2 3]\n",
            "[1 2 3]\n",
            "[1. 1. 1.]\n"
          ],
          "name": "stdout"
        }
      ]
    },
    {
      "cell_type": "code",
      "metadata": {
        "colab": {
          "base_uri": "https://localhost:8080/"
        },
        "id": "hHhvOVCwl7JT",
        "outputId": "2b84d1ac-de5f-4086-803c-77c8ea4647d0"
      },
      "source": [
        "# vector dot product\n",
        "# we can calculate the sum of the multiplied elements of two vectors of the same length to give a scalar. This is called the dot product, named because of the dot operator used when describing the operation.\n",
        "from numpy import array\n",
        "\n",
        "a = array([1, 2, 3])\n",
        "print(a)\n",
        "\n",
        "b = array([1, 2, 3])\n",
        "print(b)\n",
        "\n",
        "c = a.dot(b)\n",
        "print(c)"
      ],
      "execution_count": 7,
      "outputs": [
        {
          "output_type": "stream",
          "text": [
            "[1 2 3]\n",
            "[1 2 3]\n",
            "14\n"
          ],
          "name": "stdout"
        }
      ]
    },
    {
      "cell_type": "code",
      "metadata": {
        "colab": {
          "base_uri": "https://localhost:8080/"
        },
        "id": "oD9pXGasmNQF",
        "outputId": "538d3f0d-1d73-4070-a9be-dd38e6646abc"
      },
      "source": [
        "# vector-scalar multiplication\n",
        "from numpy import array\n",
        "\n",
        "a = array([1, 2, 3])\n",
        "print(a)\n",
        "\n",
        "s = 0.5\n",
        "print(s)\n",
        "\n",
        "c = s * a \n",
        "print(c)\n"
      ],
      "execution_count": 8,
      "outputs": [
        {
          "output_type": "stream",
          "text": [
            "[1 2 3]\n",
            "0.5\n",
            "[0.5 1.  1.5]\n"
          ],
          "name": "stdout"
        }
      ]
    },
    {
      "cell_type": "code",
      "metadata": {
        "id": "3OfuWEc3mye1"
      },
      "source": [
        ""
      ],
      "execution_count": null,
      "outputs": []
    }
  ]
}