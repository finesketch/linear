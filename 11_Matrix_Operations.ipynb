{
  "nbformat": 4,
  "nbformat_minor": 0,
  "metadata": {
    "colab": {
      "name": "11 - Matrix Operations.ipynb",
      "provenance": [],
      "authorship_tag": "ABX9TyNGPd5FOZ9SDTE8sSlon96J",
      "include_colab_link": true
    },
    "kernelspec": {
      "name": "python3",
      "display_name": "Python 3"
    },
    "language_info": {
      "name": "python"
    }
  },
  "cells": [
    {
      "cell_type": "markdown",
      "metadata": {
        "id": "view-in-github",
        "colab_type": "text"
      },
      "source": [
        "<a href=\"https://colab.research.google.com/github/finesketch/linear/blob/main/11_Matrix_Operations.ipynb\" target=\"_parent\"><img src=\"https://colab.research.google.com/assets/colab-badge.svg\" alt=\"Open In Colab\"/></a>"
      ]
    },
    {
      "cell_type": "markdown",
      "metadata": {
        "id": "orSo298U3ETf"
      },
      "source": [
        "## Matrix Operations"
      ]
    },
    {
      "cell_type": "code",
      "metadata": {
        "colab": {
          "base_uri": "https://localhost:8080/"
        },
        "id": "2ZN02GYX3EdJ",
        "outputId": "6993e939-730b-4f60-e3fa-37df938ea135"
      },
      "source": [
        "# transpose matrix\n",
        "from numpy import array\n",
        "\n",
        "A = array([\n",
        "  [1, 2],\n",
        "  [3, 4],\n",
        "  [5, 6]])\n",
        "print(A)\n",
        "\n",
        "C = A.T\n",
        "print(C)"
      ],
      "execution_count": 1,
      "outputs": [
        {
          "output_type": "stream",
          "text": [
            "[[1 2]\n",
            " [3 4]\n",
            " [5 6]]\n",
            "[[1 3 5]\n",
            " [2 4 6]]\n"
          ],
          "name": "stdout"
        }
      ]
    },
    {
      "cell_type": "code",
      "metadata": {
        "colab": {
          "base_uri": "https://localhost:8080/"
        },
        "id": "ZR7poAKZ32B0",
        "outputId": "32621af8-6a33-4326-a4db-ec7d53dde8ac"
      },
      "source": [
        "# invert matrix\n",
        "from numpy import array\n",
        "from numpy.linalg import inv\n",
        "\n",
        "A = array([\n",
        "[1.0, 2.0],\n",
        "  [3.0, 4.0]])\n",
        "print(A)\n",
        "\n",
        "# https://www.mathsisfun.com/algebra/matrix-inverse.html\n",
        "B = inv(A)\n",
        "print(B)\n",
        "\n",
        "I = A.dot(B)\n",
        "print(I)"
      ],
      "execution_count": 2,
      "outputs": [
        {
          "output_type": "stream",
          "text": [
            "[[1. 2.]\n",
            " [3. 4.]]\n",
            "[[-2.   1. ]\n",
            " [ 1.5 -0.5]]\n",
            "[[1.0000000e+00 0.0000000e+00]\n",
            " [8.8817842e-16 1.0000000e+00]]\n"
          ],
          "name": "stdout"
        }
      ]
    },
    {
      "cell_type": "code",
      "metadata": {
        "colab": {
          "base_uri": "https://localhost:8080/"
        },
        "id": "fN3NZGJq4W0x",
        "outputId": "f24fbb8c-500c-44b6-9d64-2bb944be5c27"
      },
      "source": [
        "# matrix trace\n",
        "from numpy import array\n",
        "from numpy import trace\n",
        "\n",
        "A = array([\n",
        "   [1, 2, 3],\n",
        "  [4, 5, 6],\n",
        "  [7, 8, 9]])\n",
        "print(A)\n",
        "\n",
        "B = trace(A)\n",
        "print(B)"
      ],
      "execution_count": 3,
      "outputs": [
        {
          "output_type": "stream",
          "text": [
            "[[1 2 3]\n",
            " [4 5 6]\n",
            " [7 8 9]]\n",
            "15\n"
          ],
          "name": "stdout"
        }
      ]
    },
    {
      "cell_type": "code",
      "metadata": {
        "colab": {
          "base_uri": "https://localhost:8080/"
        },
        "id": "nCNGOZIQ8VGK",
        "outputId": "62fed024-79d5-4a40-e7d2-93d79f48f881"
      },
      "source": [
        "# matrix determinant\n",
        "from numpy import array\n",
        "from numpy.linalg import det\n",
        "\n",
        "A = array([\n",
        "  [1, 2, 3],\n",
        "  [4, 5, 6],\n",
        "  [7, 8, 9]])\n",
        "print(A)\n",
        "\n",
        "# https://www.mathsisfun.com/algebra/matrix-determinant.html\n",
        "B = det(A)\n",
        "print(B)\n",
        "# the determinant is a zero when the matrix has no inverse.\n",
        "\n",
        "A = array([\n",
        "  [3, 8],\n",
        "  [4, 6]])\n",
        "print(A)\n",
        "\n",
        "B = det(A)\n",
        "print(B)"
      ],
      "execution_count": 6,
      "outputs": [
        {
          "output_type": "stream",
          "text": [
            "[[1 2 3]\n",
            " [4 5 6]\n",
            " [7 8 9]]\n",
            "0.0\n",
            "[[3 8]\n",
            " [4 6]]\n",
            "-14.000000000000004\n"
          ],
          "name": "stdout"
        }
      ]
    },
    {
      "cell_type": "code",
      "metadata": {
        "colab": {
          "base_uri": "https://localhost:8080/"
        },
        "id": "E4msbBFt8-8I",
        "outputId": "5bbca44b-887d-4a4e-a986-49aa72bc93a9"
      },
      "source": [
        "# vector rank\n",
        "from numpy import array\n",
        "from numpy.linalg import matrix_rank\n",
        "\n",
        "# rank\n",
        "v1 = array([1,2,3])\n",
        "print(v1)\n",
        "vr1 = matrix_rank(v1)\n",
        "print(vr1)\n",
        "\n",
        "# zero rank\n",
        "v2 = array([0,0,0,0,0])\n",
        "print(v2)\n",
        "vr2 = matrix_rank(v2)\n",
        "print(vr2)\n",
        "\n",
        "v3 = array([\n",
        "  [3, 8],\n",
        "  [4, 6]])\n",
        "print(v3)\n",
        "vr3 = matrix_rank(v3)\n",
        "print(vr3)\n",
        "\n",
        "v4 = array([\n",
        "  [1, 2, 3],\n",
        "  [4, 5, 6],\n",
        "  [7, 8, 9]])\n",
        "print(v4)\n",
        "vr4 = matrix_rank(v4)\n",
        "print(vr4)"
      ],
      "execution_count": 9,
      "outputs": [
        {
          "output_type": "stream",
          "text": [
            "[1 2 3]\n",
            "1\n",
            "[0 0 0 0 0]\n",
            "0\n",
            "[[3 8]\n",
            " [4 6]]\n",
            "2\n",
            "[[1 2 3]\n",
            " [4 5 6]\n",
            " [7 8 9]]\n",
            "2\n"
          ],
          "name": "stdout"
        }
      ]
    },
    {
      "cell_type": "code",
      "metadata": {
        "colab": {
          "base_uri": "https://localhost:8080/"
        },
        "id": "R7KKkWda_GTM",
        "outputId": "eec8e55a-996e-42f7-8135-a7e27f1dc05a"
      },
      "source": [
        "# matrix rank\n",
        "from numpy import array\n",
        "from numpy.linalg import matrix_rank\n",
        "\n",
        "# rank 0\n",
        "M0 = array([\n",
        "  [0,0],\n",
        "  [0,0]])\n",
        "print(M0)\n",
        "mr0 = matrix_rank(M0)\n",
        "print(mr0)\n",
        "\n",
        "# rank 1\n",
        "M1 = array([\n",
        "  [1,2],\n",
        "  [1,2]])\n",
        "print(M1)\n",
        "mr1 = matrix_rank(M1)\n",
        "print(mr1)\n",
        "\n",
        "# rank 2\n",
        "M2 = array([\n",
        "  [1,2],\n",
        "  [3,4]])\n",
        "print(M2)\n",
        "mr2 = matrix_rank(M2)\n",
        "print(mr2)"
      ],
      "execution_count": 10,
      "outputs": [
        {
          "output_type": "stream",
          "text": [
            "[[0 0]\n",
            " [0 0]]\n",
            "0\n",
            "[[1 2]\n",
            " [1 2]]\n",
            "1\n",
            "[[1 2]\n",
            " [3 4]]\n",
            "2\n"
          ],
          "name": "stdout"
        }
      ]
    },
    {
      "cell_type": "code",
      "metadata": {
        "colab": {
          "base_uri": "https://localhost:8080/"
        },
        "id": "wK7CxLrl_zAN",
        "outputId": "f5b33c89-910e-4aad-fa73-bf2ea25c951c"
      },
      "source": [
        "# sparse matrix\n",
        "from numpy import array\n",
        "from scipy.sparse import csr_matrix\n",
        "\n",
        "# create dense matrix\n",
        "A = array([\n",
        "  [1, 0, 0, 1, 0, 0],\n",
        "  [0, 0, 2, 0, 0, 1],\n",
        "  [0, 0, 0, 2, 0, 0]])\n",
        "print(A)\n",
        "\n",
        "# convert to sparse matrix (CSR method)\n",
        "S = csr_matrix(A)\n",
        "print(S)\n",
        "\n",
        "# reconstruct dense matrix\n",
        "B = S.todense()\n",
        "print(B)"
      ],
      "execution_count": 11,
      "outputs": [
        {
          "output_type": "stream",
          "text": [
            "[[1 0 0 1 0 0]\n",
            " [0 0 2 0 0 1]\n",
            " [0 0 0 2 0 0]]\n",
            "  (0, 0)\t1\n",
            "  (0, 3)\t1\n",
            "  (1, 2)\t2\n",
            "  (1, 5)\t1\n",
            "  (2, 3)\t2\n",
            "[[1 0 0 1 0 0]\n",
            " [0 0 2 0 0 1]\n",
            " [0 0 0 2 0 0]]\n"
          ],
          "name": "stdout"
        }
      ]
    },
    {
      "cell_type": "code",
      "metadata": {
        "colab": {
          "base_uri": "https://localhost:8080/"
        },
        "id": "yfV53MFbLBqB",
        "outputId": "0698b53f-65db-44a7-c588-ece95d8baca6"
      },
      "source": [
        "# sparsity calculation\n",
        "from numpy import array\n",
        "from numpy import count_nonzero\n",
        "\n",
        "# create dense matrix\n",
        "A = array([\n",
        "  [1, 0, 0, 1, 0, 0],\n",
        "  [0, 0, 2, 0, 0, 1],\n",
        "  [0, 0, 0, 2, 0, 0]])\n",
        "print(A)\n",
        "\n",
        "# calculate sparsity\n",
        "sparsity = 1.0 - count_nonzero(A) / A.size\n",
        "print(sparsity)"
      ],
      "execution_count": 12,
      "outputs": [
        {
          "output_type": "stream",
          "text": [
            "[[1 0 0 1 0 0]\n",
            " [0 0 2 0 0 1]\n",
            " [0 0 0 2 0 0]]\n",
            "0.7222222222222222\n"
          ],
          "name": "stdout"
        }
      ]
    },
    {
      "cell_type": "code",
      "metadata": {
        "id": "wU6NkN8NLe1l"
      },
      "source": [
        ""
      ],
      "execution_count": null,
      "outputs": []
    }
  ]
}