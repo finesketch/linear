{
  "nbformat": 4,
  "nbformat_minor": 0,
  "metadata": {
    "colab": {
      "name": "06 - NumPy Array Broadcasting.ipynb",
      "provenance": [],
      "authorship_tag": "ABX9TyNfCKS+WJ/0X7zh7WIp8qv2",
      "include_colab_link": true
    },
    "kernelspec": {
      "name": "python3",
      "display_name": "Python 3"
    },
    "language_info": {
      "name": "python"
    }
  },
  "cells": [
    {
      "cell_type": "markdown",
      "metadata": {
        "id": "view-in-github",
        "colab_type": "text"
      },
      "source": [
        "<a href=\"https://colab.research.google.com/github/finesketch/linear/blob/main/06_NumPy_Array_Broadcasting.ipynb\" target=\"_parent\"><img src=\"https://colab.research.google.com/assets/colab-badge.svg\" alt=\"Open In Colab\"/></a>"
      ]
    },
    {
      "cell_type": "markdown",
      "metadata": {
        "id": "VwsjY-kNaGmc"
      },
      "source": [
        "## NumPy Array Broadcasting"
      ]
    },
    {
      "cell_type": "code",
      "metadata": {
        "colab": {
          "base_uri": "https://localhost:8080/"
        },
        "id": "AW_seqSBaGxh",
        "outputId": "7aa302f6-6d34-47f1-89d0-c938aab7cc61"
      },
      "source": [
        "# broadcast scalar to one-dimensional array\n",
        "\n",
        "from numpy import array\n",
        "\n",
        "a = array([1, 2, 3])\n",
        "print(a)\n",
        "\n",
        "b = 2 \n",
        "print(b)\n",
        "\n",
        "c = a + b \n",
        "print(c)"
      ],
      "execution_count": 1,
      "outputs": [
        {
          "output_type": "stream",
          "text": [
            "[1 2 3]\n",
            "2\n",
            "[3 4 5]\n"
          ],
          "name": "stdout"
        }
      ]
    },
    {
      "cell_type": "code",
      "metadata": {
        "colab": {
          "base_uri": "https://localhost:8080/"
        },
        "id": "S1DIZEfAa9Zc",
        "outputId": "5776494b-ca65-49bb-d9bf-7c202eb6fcca"
      },
      "source": [
        "# broadcast scalar to two-dimensional array\n",
        "\n",
        "from numpy import array\n",
        "\n",
        "A = array([[1, 2, 3],\n",
        "            [1, 2, 3]]) \n",
        "print(A)\n",
        "\n",
        "b = 2\n",
        "print(b)\n",
        "\n",
        "C= A + b \n",
        "print(C)"
      ],
      "execution_count": 2,
      "outputs": [
        {
          "output_type": "stream",
          "text": [
            "[[1 2 3]\n",
            " [1 2 3]]\n",
            "2\n",
            "[[3 4 5]\n",
            " [3 4 5]]\n"
          ],
          "name": "stdout"
        }
      ]
    },
    {
      "cell_type": "code",
      "metadata": {
        "colab": {
          "base_uri": "https://localhost:8080/"
        },
        "id": "nG4vOE7obqI1",
        "outputId": "2d0ec232-c215-4a41-841f-e351af5580cd"
      },
      "source": [
        "# broadcast scalar to two-dimensional array\n",
        "\n",
        "from numpy import array\n",
        "\n",
        "A = array([[1, 2, 3],\n",
        "            [1, 2, 3]]) \n",
        "print(A)\n",
        "\n",
        "B = array([[1, 2, 3],\n",
        "            [1, 2, 3]]) \n",
        "print(B)\n",
        "\n",
        "C = A + B\n",
        "print(C)"
      ],
      "execution_count": 3,
      "outputs": [
        {
          "output_type": "stream",
          "text": [
            "[[1 2 3]\n",
            " [1 2 3]]\n",
            "[[1 2 3]\n",
            " [1 2 3]]\n",
            "[[2 4 6]\n",
            " [2 4 6]]\n"
          ],
          "name": "stdout"
        }
      ]
    },
    {
      "cell_type": "code",
      "metadata": {
        "colab": {
          "base_uri": "https://localhost:8080/"
        },
        "id": "06xZAvMlbj9_",
        "outputId": "af2292bc-2b63-4042-e5b1-a64bee663e59"
      },
      "source": [
        "# broadcast one-dimensional array to two-dimensional array\n",
        "\n",
        "from numpy import array\n",
        "\n",
        "# define two-dimensional array\n",
        "A = array([[1, 2, 3],\n",
        "          [1, 2, 3]])\n",
        "print(A)\n",
        "\n",
        "# define one-dimensional array\n",
        "B = array([1, 2, 3])\n",
        "print(B)\n",
        "\n",
        "# broadcast\n",
        "C = A + B\n",
        "print(C)"
      ],
      "execution_count": 4,
      "outputs": [
        {
          "output_type": "stream",
          "text": [
            "[[1 2 3]\n",
            " [1 2 3]]\n",
            "[1 2 3]\n",
            "[[2 4 6]\n",
            " [2 4 6]]\n"
          ],
          "name": "stdout"
        }
      ]
    },
    {
      "cell_type": "code",
      "metadata": {
        "colab": {
          "base_uri": "https://localhost:8080/",
          "height": 249
        },
        "id": "0fapRLOncGz1",
        "outputId": "f9b61ff6-f500-449e-c869-c0dbb594051e"
      },
      "source": [
        "# broadcasting error\n",
        "\n",
        "from numpy import array\n",
        "# define two-dimensional array\n",
        "A = array([\n",
        "        [1, 2, 3],\n",
        "        [1, 2, 3]])\n",
        "print(A.shape)\n",
        "\n",
        "# define one-dimensional array \n",
        "b = array([1, 2]) \n",
        "print(b.shape)\n",
        "\n",
        "# attempt broadcast\n",
        "C = A + b\n",
        "print(C)"
      ],
      "execution_count": 8,
      "outputs": [
        {
          "output_type": "stream",
          "text": [
            "(2, 3)\n",
            "(2,)\n"
          ],
          "name": "stdout"
        },
        {
          "output_type": "error",
          "ename": "ValueError",
          "evalue": "ignored",
          "traceback": [
            "\u001b[0;31m---------------------------------------------------------------------------\u001b[0m",
            "\u001b[0;31mValueError\u001b[0m                                Traceback (most recent call last)",
            "\u001b[0;32m<ipython-input-8-d1afcf7b1cde>\u001b[0m in \u001b[0;36m<module>\u001b[0;34m()\u001b[0m\n\u001b[1;32m     13\u001b[0m \u001b[0;34m\u001b[0m\u001b[0m\n\u001b[1;32m     14\u001b[0m \u001b[0;31m# attempt broadcast\u001b[0m\u001b[0;34m\u001b[0m\u001b[0;34m\u001b[0m\u001b[0;34m\u001b[0m\u001b[0m\n\u001b[0;32m---> 15\u001b[0;31m \u001b[0mC\u001b[0m \u001b[0;34m=\u001b[0m \u001b[0mA\u001b[0m \u001b[0;34m+\u001b[0m \u001b[0mb\u001b[0m\u001b[0;34m\u001b[0m\u001b[0;34m\u001b[0m\u001b[0m\n\u001b[0m\u001b[1;32m     16\u001b[0m \u001b[0mprint\u001b[0m\u001b[0;34m(\u001b[0m\u001b[0mC\u001b[0m\u001b[0;34m)\u001b[0m\u001b[0;34m\u001b[0m\u001b[0;34m\u001b[0m\u001b[0m\n",
            "\u001b[0;31mValueError\u001b[0m: operands could not be broadcast together with shapes (2,3) (2,) "
          ]
        }
      ]
    },
    {
      "cell_type": "code",
      "metadata": {
        "id": "Uu9ILHxXc1Zq"
      },
      "source": [
        ""
      ],
      "execution_count": null,
      "outputs": []
    }
  ]
}