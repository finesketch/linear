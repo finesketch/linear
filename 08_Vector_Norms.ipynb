{
  "nbformat": 4,
  "nbformat_minor": 0,
  "metadata": {
    "colab": {
      "name": "08 - Vector Norms.ipynb",
      "provenance": [],
      "authorship_tag": "ABX9TyOuZdfT5FhDYIuvEitlJrtu",
      "include_colab_link": true
    },
    "kernelspec": {
      "name": "python3",
      "display_name": "Python 3"
    },
    "language_info": {
      "name": "python"
    }
  },
  "cells": [
    {
      "cell_type": "markdown",
      "metadata": {
        "id": "view-in-github",
        "colab_type": "text"
      },
      "source": [
        "<a href=\"https://colab.research.google.com/github/finesketch/linear/blob/main/08_Vector_Norms.ipynb\" target=\"_parent\"><img src=\"https://colab.research.google.com/assets/colab-badge.svg\" alt=\"Open In Colab\"/></a>"
      ]
    },
    {
      "cell_type": "markdown",
      "metadata": {
        "id": "k62QEX82t80k"
      },
      "source": [
        "## Vector Norms"
      ]
    },
    {
      "cell_type": "code",
      "metadata": {
        "colab": {
          "base_uri": "https://localhost:8080/"
        },
        "id": "uqJ6qgDOt9AV",
        "outputId": "0ad4d911-72ea-4faf-f145-91d9cad222bc"
      },
      "source": [
        "# L1 norm calculation\n",
        "\n",
        "from numpy import array\n",
        "from numpy.linalg import norm\n",
        "\n",
        "a = array([1, 2, 3])\n",
        "print(a)\n",
        "\n",
        "l1 = norm(a, 1)\n",
        "print(l1)"
      ],
      "execution_count": 1,
      "outputs": [
        {
          "output_type": "stream",
          "text": [
            "[1 2 3]\n",
            "6.0\n"
          ],
          "name": "stdout"
        }
      ]
    },
    {
      "cell_type": "code",
      "metadata": {
        "colab": {
          "base_uri": "https://localhost:8080/"
        },
        "id": "bxeCS8qFw4ST",
        "outputId": "6b059d14-b539-4552-92e4-d22fe7ba082e"
      },
      "source": [
        "# L2 norm calculation\n",
        "\n",
        "from numpy import array\n",
        "from numpy.linalg import norm\n",
        "\n",
        "a = array([1, 2, 3])\n",
        "print(a)\n",
        "\n",
        "l2 = norm(a)\n",
        "print(l2)"
      ],
      "execution_count": 2,
      "outputs": [
        {
          "output_type": "stream",
          "text": [
            "[1 2 3]\n",
            "3.7416573867739413\n"
          ],
          "name": "stdout"
        }
      ]
    },
    {
      "cell_type": "code",
      "metadata": {
        "colab": {
          "base_uri": "https://localhost:8080/"
        },
        "id": "oZSQn0ihxmdX",
        "outputId": "070abaee-b76e-4de9-c02e-0cbab5daa7a3"
      },
      "source": [
        "# vector max norm\n",
        "from numpy import inf\n",
        "from numpy import array\n",
        "from numpy.linalg import norm\n",
        "\n",
        "a = array([1, 2, 3])\n",
        "print(a)\n",
        "\n",
        "maxnorm = norm(a, inf)\n",
        "print(maxnorm)"
      ],
      "execution_count": 3,
      "outputs": [
        {
          "output_type": "stream",
          "text": [
            "[1 2 3]\n",
            "3.0\n"
          ],
          "name": "stdout"
        }
      ]
    },
    {
      "cell_type": "code",
      "metadata": {
        "id": "KfNv-F2Mx9Uc"
      },
      "source": [
        ""
      ],
      "execution_count": null,
      "outputs": []
    }
  ]
}